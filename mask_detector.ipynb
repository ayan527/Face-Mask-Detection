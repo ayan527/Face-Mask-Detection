{
 "cells": [
  {
   "cell_type": "code",
   "execution_count": 1,
   "metadata": {},
   "outputs": [
    {
     "name": "stdout",
     "output_type": "stream",
     "text": [
      "env: OPENCV_VIDEOIO_PRIORITY_MSMF=0\n"
     ]
    }
   ],
   "source": [
    "import cv2\n",
    "import numpy as np\n",
    "import matplotlib.pyplot as plt\n",
    "%env OPENCV_VIDEOIO_PRIORITY_MSMF 0"
   ]
  },
  {
   "cell_type": "code",
   "execution_count": 2,
   "metadata": {},
   "outputs": [],
   "source": [
    "import tensorflow as tf\n",
    "from tensorflow import keras"
   ]
  },
  {
   "cell_type": "code",
   "execution_count": 3,
   "metadata": {},
   "outputs": [],
   "source": [
    "face_classifier = cv2.CascadeClassifier('haarcascades/haarcascade_frontalface_default.xml')"
   ]
  },
  {
   "cell_type": "code",
   "execution_count": 4,
   "metadata": {},
   "outputs": [],
   "source": [
    "mask_detect_model = keras.models.load_model('best_model.h5')"
   ]
  },
  {
   "cell_type": "code",
   "execution_count": 5,
   "metadata": {},
   "outputs": [],
   "source": [
    "result = {0:\"Mask\",1:\"No Mask\"}\n",
    "bgr_color = {0:(0,255,0),1:(0,0,255)}"
   ]
  },
  {
   "cell_type": "code",
   "execution_count": 16,
   "metadata": {},
   "outputs": [],
   "source": [
    "def detect_faces(frame):\n",
    "    gray_frame = cv2.cvtColor(frame, cv2.COLOR_BGR2GRAY)\n",
    "    gray_frame = cv2.medianBlur(gray_frame,13)\n",
    "    face_rects = face_classifier.detectMultiScale(gray_frame,scaleFactor=1.3,minNeighbors=5)\n",
    "    \n",
    "    for x,y,w,h in face_rects:\n",
    "        face_frame = frame[y:y+h,x:x+w]\n",
    "        face_frame = cv2.resize(face_frame,(128,128))\n",
    "        \n",
    "        face_frame = face_frame/255.0\n",
    "        face_frame = np.expand_dims(face_frame,axis=0)\n",
    "        \n",
    "        detect = mask_detect_model.predict_classes(face_frame)\n",
    "        label = detect[0,0]\n",
    "        \n",
    "        cv2.putText(frame,result[label],(x-10,y-20),cv2.FONT_HERSHEY_SIMPLEX,1,bgr_color[label],3)\n",
    "        cv2.rectangle(frame,(x,y),(x+w,y+h),bgr_color[label],2)\n",
    "    \n",
    "    return frame"
   ]
  },
  {
   "cell_type": "code",
   "execution_count": 17,
   "metadata": {},
   "outputs": [],
   "source": [
    "capture = cv2.VideoCapture(0)\n",
    "\n",
    "while True:\n",
    "    ret,frame = capture.read()\n",
    "    \n",
    "    if not ret:\n",
    "        break\n",
    "    \n",
    "    frame = cv2.flip(frame,1)\n",
    "    \n",
    "    final_frame = detect_faces(frame)\n",
    "    cv2.imshow('Faces', final_frame)\n",
    "    \n",
    "    if cv2.waitKey(1) & 0xFF == ord('q'):\n",
    "        break\n",
    "\n",
    "capture.release()\n",
    "cv2.destroyAllWindows()"
   ]
  },
  {
   "cell_type": "code",
   "execution_count": null,
   "metadata": {},
   "outputs": [],
   "source": []
  }
 ],
 "metadata": {
  "kernelspec": {
   "display_name": "Python 3",
   "language": "python",
   "name": "python3"
  },
  "language_info": {
   "codemirror_mode": {
    "name": "ipython",
    "version": 3
   },
   "file_extension": ".py",
   "mimetype": "text/x-python",
   "name": "python",
   "nbconvert_exporter": "python",
   "pygments_lexer": "ipython3",
   "version": "3.6.12"
  }
 },
 "nbformat": 4,
 "nbformat_minor": 4
}
