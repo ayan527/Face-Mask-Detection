{
 "cells": [
  {
   "cell_type": "code",
   "execution_count": 1,
   "id": "4337a401",
   "metadata": {},
   "outputs": [],
   "source": [
    "# Importing startung libraries\n",
    "import numpy as np\n",
    "import pandas as pd\n",
    "import matplotlib as mlt\n",
    "import matplotlib.pyplot as plt\n",
    "import tensorflow as tf\n",
    "from tensorflow import keras\n",
    "\n",
    "# Setting random seed\n",
    "np.random.seed(42)\n",
    "tf.random.set_seed(42)"
   ]
  },
  {
   "cell_type": "code",
   "execution_count": 2,
   "id": "7087d150",
   "metadata": {},
   "outputs": [],
   "source": [
    "# Setting datapath for all sets\n",
    "train_datapath = r'C:\\Users\\acer\\DL Training\\Face Mask Detection\\dataset\\train'\n",
    "valid_datapath = r'C:\\Users\\acer\\DL Training\\Face Mask Detection\\dataset\\validation'\n",
    "test_datapath = r'C:\\Users\\acer\\DL Training\\Face Mask Detection\\dataset\\test'"
   ]
  },
  {
   "cell_type": "code",
   "execution_count": 3,
   "id": "b036cffa",
   "metadata": {},
   "outputs": [],
   "source": [
    "# Importing ImageDataGenerator\n",
    "from tensorflow.keras.preprocessing.image import ImageDataGenerator\n",
    "\n",
    "# Initializing ImageDataGenerator objects for all sets\n",
    "train_datagen = ImageDataGenerator(\n",
    "    rescale=1.0/255,\n",
    "    rotation_range=40,\n",
    "    width_shift_range=0.2,\n",
    "    height_shift_range=0.2,\n",
    "    shear_range=0.2,\n",
    "    zoom_range=0.2,\n",
    "    horizontal_flip=True)\n",
    "\n",
    "valid_datagen = ImageDataGenerator(rescale=1.0/255)\n",
    "test_datagen = ImageDataGenerator(rescale=1.0/255)"
   ]
  },
  {
   "cell_type": "code",
   "execution_count": 4,
   "id": "a324b2d2",
   "metadata": {},
   "outputs": [
    {
     "name": "stdout",
     "output_type": "stream",
     "text": [
      "Found 10000 images belonging to 2 classes.\n",
      "Found 800 images belonging to 2 classes.\n",
      "Found 992 images belonging to 2 classes.\n"
     ]
    }
   ],
   "source": [
    "# Creating image generators from directory\n",
    "train_generator = train_datagen.flow_from_directory(train_datapath, target_size=(128,128), batch_size=20, class_mode='binary')\n",
    "valid_generator = train_datagen.flow_from_directory(valid_datapath, target_size=(128,128), batch_size=20, class_mode='binary')\n",
    "test_generator = train_datagen.flow_from_directory(test_datapath, target_size=(128,128), batch_size=20, class_mode='binary')"
   ]
  },
  {
   "cell_type": "code",
   "execution_count": 5,
   "id": "d3f381e5",
   "metadata": {},
   "outputs": [
    {
     "name": "stdout",
     "output_type": "stream",
     "text": [
      "Downloading data from https://github.com/fchollet/deep-learning-models/releases/download/v0.1/vgg19_weights_tf_dim_ordering_tf_kernels_notop.h5\n",
      "80142336/80134624 [==============================] - 29s 0us/step\n",
      "Model: \"vgg19\"\n",
      "_________________________________________________________________\n",
      "Layer (type)                 Output Shape              Param #   \n",
      "=================================================================\n",
      "input_1 (InputLayer)         [(None, 128, 128, 3)]     0         \n",
      "_________________________________________________________________\n",
      "block1_conv1 (Conv2D)        (None, 128, 128, 64)      1792      \n",
      "_________________________________________________________________\n",
      "block1_conv2 (Conv2D)        (None, 128, 128, 64)      36928     \n",
      "_________________________________________________________________\n",
      "block1_pool (MaxPooling2D)   (None, 64, 64, 64)        0         \n",
      "_________________________________________________________________\n",
      "block2_conv1 (Conv2D)        (None, 64, 64, 128)       73856     \n",
      "_________________________________________________________________\n",
      "block2_conv2 (Conv2D)        (None, 64, 64, 128)       147584    \n",
      "_________________________________________________________________\n",
      "block2_pool (MaxPooling2D)   (None, 32, 32, 128)       0         \n",
      "_________________________________________________________________\n",
      "block3_conv1 (Conv2D)        (None, 32, 32, 256)       295168    \n",
      "_________________________________________________________________\n",
      "block3_conv2 (Conv2D)        (None, 32, 32, 256)       590080    \n",
      "_________________________________________________________________\n",
      "block3_conv3 (Conv2D)        (None, 32, 32, 256)       590080    \n",
      "_________________________________________________________________\n",
      "block3_conv4 (Conv2D)        (None, 32, 32, 256)       590080    \n",
      "_________________________________________________________________\n",
      "block3_pool (MaxPooling2D)   (None, 16, 16, 256)       0         \n",
      "_________________________________________________________________\n",
      "block4_conv1 (Conv2D)        (None, 16, 16, 512)       1180160   \n",
      "_________________________________________________________________\n",
      "block4_conv2 (Conv2D)        (None, 16, 16, 512)       2359808   \n",
      "_________________________________________________________________\n",
      "block4_conv3 (Conv2D)        (None, 16, 16, 512)       2359808   \n",
      "_________________________________________________________________\n",
      "block4_conv4 (Conv2D)        (None, 16, 16, 512)       2359808   \n",
      "_________________________________________________________________\n",
      "block4_pool (MaxPooling2D)   (None, 8, 8, 512)         0         \n",
      "_________________________________________________________________\n",
      "block5_conv1 (Conv2D)        (None, 8, 8, 512)         2359808   \n",
      "_________________________________________________________________\n",
      "block5_conv2 (Conv2D)        (None, 8, 8, 512)         2359808   \n",
      "_________________________________________________________________\n",
      "block5_conv3 (Conv2D)        (None, 8, 8, 512)         2359808   \n",
      "_________________________________________________________________\n",
      "block5_conv4 (Conv2D)        (None, 8, 8, 512)         2359808   \n",
      "_________________________________________________________________\n",
      "block5_pool (MaxPooling2D)   (None, 4, 4, 512)         0         \n",
      "=================================================================\n",
      "Total params: 20,024,384\n",
      "Trainable params: 20,024,384\n",
      "Non-trainable params: 0\n",
      "_________________________________________________________________\n"
     ]
    }
   ],
   "source": [
    "# Importing VGG19 model to create convolutional base\n",
    "from tensorflow.keras.applications import VGG19\n",
    "\n",
    "conv_base = VGG19(weights='imagenet', include_top=False, input_shape=(128,128,3))\n",
    "conv_base.summary()"
   ]
  },
  {
   "cell_type": "code",
   "execution_count": 6,
   "id": "dcfdc9dd",
   "metadata": {},
   "outputs": [],
   "source": [
    "# To not train already trained parameters\n",
    "conv_base.trainable = False"
   ]
  },
  {
   "cell_type": "code",
   "execution_count": 7,
   "id": "a414d6b6",
   "metadata": {},
   "outputs": [],
   "source": [
    "# Importing required modules\n",
    "from tensorflow.keras import layers\n",
    "from tensorflow.keras import models"
   ]
  },
  {
   "cell_type": "code",
   "execution_count": 8,
   "id": "eb159bd1",
   "metadata": {},
   "outputs": [
    {
     "name": "stdout",
     "output_type": "stream",
     "text": [
      "Model: \"sequential\"\n",
      "_________________________________________________________________\n",
      "Layer (type)                 Output Shape              Param #   \n",
      "=================================================================\n",
      "vgg19 (Model)                (None, 4, 4, 512)         20024384  \n",
      "_________________________________________________________________\n",
      "flatten (Flatten)            (None, 8192)              0         \n",
      "_________________________________________________________________\n",
      "dense (Dense)                (None, 256)               2097408   \n",
      "_________________________________________________________________\n",
      "dense_1 (Dense)              (None, 1)                 257       \n",
      "=================================================================\n",
      "Total params: 22,122,049\n",
      "Trainable params: 2,097,665\n",
      "Non-trainable params: 20,024,384\n",
      "_________________________________________________________________\n"
     ]
    }
   ],
   "source": [
    "# Creating a Sequential model\n",
    "model = models.Sequential()\n",
    "model.add(conv_base)\n",
    "model.add(layers.Flatten())\n",
    "model.add(layers.Dense(256, activation='relu'))\n",
    "model.add(layers.Dense(1, activation='sigmoid'))\n",
    "\n",
    "model.summary()"
   ]
  },
  {
   "cell_type": "code",
   "execution_count": 9,
   "id": "617d1bdb",
   "metadata": {},
   "outputs": [],
   "source": [
    "# Compiling the created model\n",
    "model.compile(loss='binary_crossentropy', optimizer=keras.optimizers.RMSprop(lr=2e-5), metrics=['accuracy'])"
   ]
  },
  {
   "cell_type": "code",
   "execution_count": 10,
   "id": "ecd000c4",
   "metadata": {},
   "outputs": [],
   "source": [
    "# To save the best model state\n",
    "model_checkpoint = keras.callbacks.ModelCheckpoint('best_model.h5', save_best_only=True)\n",
    "early_stopping = keras.callbacks.EarlyStopping(patience=5, restore_best_weights=True)"
   ]
  },
  {
   "cell_type": "code",
   "execution_count": 11,
   "id": "8255a0dd",
   "metadata": {},
   "outputs": [
    {
     "name": "stdout",
     "output_type": "stream",
     "text": [
      "WARNING:tensorflow:sample_weight modes were coerced from\n",
      "  ...\n",
      "    to  \n",
      "  ['...']\n",
      "WARNING:tensorflow:sample_weight modes were coerced from\n",
      "  ...\n",
      "    to  \n",
      "  ['...']\n",
      "Train for 500 steps, validate for 40 steps\n",
      "Epoch 1/10\n",
      "500/500 [==============================] - 808s 2s/step - loss: 0.2499 - accuracy: 0.9140 - val_loss: 0.1476 - val_accuracy: 0.9550\n",
      "Epoch 2/10\n",
      "500/500 [==============================] - 773s 2s/step - loss: 0.1374 - accuracy: 0.9504 - val_loss: 0.1335 - val_accuracy: 0.9525\n",
      "Epoch 3/10\n",
      "500/500 [==============================] - 1585s 3s/step - loss: 0.1122 - accuracy: 0.9587 - val_loss: 0.1066 - val_accuracy: 0.9538\n",
      "Epoch 4/10\n",
      "500/500 [==============================] - 873s 2s/step - loss: 0.1023 - accuracy: 0.9634 - val_loss: 0.0943 - val_accuracy: 0.9625\n",
      "Epoch 5/10\n",
      "500/500 [==============================] - 871s 2s/step - loss: 0.0935 - accuracy: 0.9668 - val_loss: 0.0977 - val_accuracy: 0.9663\n",
      "Epoch 6/10\n",
      "500/500 [==============================] - 865s 2s/step - loss: 0.0873 - accuracy: 0.9677 - val_loss: 0.1132 - val_accuracy: 0.9625\n",
      "Epoch 7/10\n",
      "500/500 [==============================] - 891s 2s/step - loss: 0.0899 - accuracy: 0.9683 - val_loss: 0.0747 - val_accuracy: 0.9775\n",
      "Epoch 8/10\n",
      "500/500 [==============================] - 863s 2s/step - loss: 0.0837 - accuracy: 0.9695 - val_loss: 0.1192 - val_accuracy: 0.9588\n",
      "Epoch 9/10\n",
      "500/500 [==============================] - 778s 2s/step - loss: 0.0793 - accuracy: 0.9713 - val_loss: 0.0846 - val_accuracy: 0.9725\n",
      "Epoch 10/10\n",
      "500/500 [==============================] - 777s 2s/step - loss: 0.0726 - accuracy: 0.9756 - val_loss: 0.0788 - val_accuracy: 0.9725\n"
     ]
    }
   ],
   "source": [
    "# Training the model with trained & validatiion dataset\n",
    "model_history = model.fit(train_generator, steps_per_epoch=500, epochs=10, validation_data=valid_generator, validation_steps=40,\n",
    "                          callbacks=[model_checkpoint, early_stopping])"
   ]
  },
  {
   "cell_type": "code",
   "execution_count": 12,
   "id": "387e2b21",
   "metadata": {},
   "outputs": [
    {
     "name": "stdout",
     "output_type": "stream",
     "text": [
      "WARNING:tensorflow:sample_weight modes were coerced from\n",
      "  ...\n",
      "    to  \n",
      "  ['...']\n",
      "50/50 [==============================] - 68s 1s/step - loss: 0.0872 - accuracy: 0.9637\n"
     ]
    }
   ],
   "source": [
    "model_eval = model.evaluate(test_generator, steps=50)"
   ]
  },
  {
   "cell_type": "code",
   "execution_count": 13,
   "id": "fe12aac1",
   "metadata": {},
   "outputs": [
    {
     "data": {
      "image/png": "[encoded data removed]",
      "text/plain": [
       "<Figure size 576x360 with 1 Axes>"
      ]
     },
     "metadata": {
      "needs_background": "light"
     },
     "output_type": "display_data"
    }
   ],
   "source": [
    "pd.DataFrame(model_history.history).plot(figsize=(8,5))\n",
    "plt.grid(True)\n",
    "plt.gca().set_ylim(0,1)\n",
    "plt.show()"
   ]
  },
  {
   "cell_type": "code",
   "execution_count": 15,
   "id": "a17f204c",
   "metadata": {},
   "outputs": [
    {
     "data": {
      "text/plain": [
       "[0.96370965]"
      ]
     },
     "execution_count": 15,
     "metadata": {},
     "output_type": "execute_result"
    }
   ],
   "source": [
    "model_eval[1:]"
   ]
  },
  {
   "cell_type": "code",
   "execution_count": null,
   "id": "20da022a",
   "metadata": {},
   "outputs": [],
   "source": []
  }
 ],
 "metadata": {
  "kernelspec": {
   "display_name": "Python 3",
   "language": "python",
   "name": "python3"
  },
  "language_info": {
   "codemirror_mode": {
    "name": "ipython",
    "version": 3
   },
   "file_extension": ".py",
   "mimetype": "text/x-python",
   "name": "python",
   "nbconvert_exporter": "python",
   "pygments_lexer": "ipython3",
   "version": "3.6.12"
  }
 },
 "nbformat": 4,
 "nbformat_minor": 5
}
